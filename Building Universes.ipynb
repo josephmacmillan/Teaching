{
 "cells": [
  {
   "cell_type": "markdown",
   "id": "9e2be652",
   "metadata": {},
   "source": [
    "# Building Universes\n",
    "\n",
    "Let's solve the Friedmann equation numerically.  There are really two different ways to do it, neither of which is perfect.\n",
    "\n",
    "## Integrating The Friedmann Equation\n",
    "\n",
    "In integral form, the Friedmann equation can be written\n",
    "$$\n",
    "H_0 (t - t_0) = \\int_1^a \\frac{da}{\\sqrt{\\Omega_{r,0}/a^2 + \\Omega_{m,0}/a + \\Omega_{\\lambda,0}a^2 + (1 - \\Omega_0)}}.\n",
    "$$\n",
    "Note the integration limits -- to make every universe we build have their scale factor be one (the current epoch) at the same place on the graph, we'll integrate from a = 1 (today) to a = a (some scale factor, can be less then 1 or greater than 1).  That means on the horiztonal axis, a value of 0 indicates the current time.\n",
    "\n",
    "Here's some code for this."
   ]
  },
  {
   "cell_type": "code",
   "execution_count": 4,
   "id": "ca095f8f",
   "metadata": {},
   "outputs": [],
   "source": [
    "import scipy.integrate as integrate\n",
    "import matplotlib.pyplot as plt\n",
    "import numpy as np\n",
    "\n",
    "# convert H0 to Gyrs\n",
    "H0 = 68.0 / 3.086e+19 * (60*60*24*365*1e9)"
   ]
  },
  {
   "cell_type": "code",
   "execution_count": 12,
   "id": "0cd614fb",
   "metadata": {},
   "outputs": [],
   "source": [
    "def create_universe_int(Omega_r0 = 9e-5, Omega_m0 = 0.31, Omega_l0 = 0.69, amax = 10):\n",
    "\n",
    "    Omega_0 = Omega_r0 + Omega_m0 + Omega_l0\n",
    "\n",
    "    # this is the integrand\n",
    "    def f(a):\n",
    "        return 1.0 / np.sqrt(Omega_r0 / a**2 + Omega_m0 / a + Omega_l0 * a**2 + (1.0 - Omega_0))\n",
    "\n",
    "    # set up the integration\n",
    "    N = 1000\n",
    "    a = np.linspace(1e-5, amax, N)\n",
    "\n",
    "    t = np.zeros(N)\n",
    "    for i in range(N):\n",
    "        t[i], err = integrate.quad(f, 1, a[i])\n",
    "        \n",
    "    print(f\"Current age of this universe: {-t[0]/H0}\") \n",
    "\n",
    "    return t, a"
   ]
  },
  {
   "cell_type": "markdown",
   "id": "e7176235",
   "metadata": {},
   "source": [
    "Test it for our universe:"
   ]
  },
  {
   "cell_type": "code",
   "execution_count": 13,
   "id": "2159dcb2",
   "metadata": {},
   "outputs": [
    {
     "name": "stdout",
     "output_type": "stream",
     "text": [
      "Current age of this universe: 13.74194958241408\n"
     ]
    },
    {
     "data": {
      "text/plain": [
       "Text(0, 0.5, '$a$')"
      ]
     },
     "execution_count": 13,
     "metadata": {},
     "output_type": "execute_result"
    },
    {
     "data": {
      "image/png": "[encoded data removed]",
      "text/plain": [
       "<Figure size 432x288 with 1 Axes>"
      ]
     },
     "metadata": {
      "needs_background": "light"
     },
     "output_type": "display_data"
    }
   ],
   "source": [
    "t1, a1 = create_universe_int(amax = 3)\n",
    "plt.plot(t1, a1)\n",
    "\n",
    "plt.xlabel(\"$H_0 (t-t_0)$\")\n",
    "plt.ylabel(\"$a$\")"
   ]
  },
  {
   "cell_type": "markdown",
   "id": "325dc04e",
   "metadata": {},
   "source": [
    "## Solving Friedmann as a Differential Equation\n",
    "\n",
    "We can also write the Friedmann equation as\n",
    "$$\n",
    "\\frac{da}{dt} = H_0 \\sqrt{ \\frac{\\Omega_{r,0}}{a^2} + \\frac{\\Omega_{m,0}}{a} + \\Omega_{\\Lambda,0}a^2 + (1 - \\Omega_0) }.\n",
    "$$\n",
    "This is a first order ODE so is pretty easy to solve numerically."
   ]
  },
  {
   "cell_type": "code",
   "execution_count": 14,
   "id": "df60eaf6",
   "metadata": {},
   "outputs": [],
   "source": [
    "def create_universe_ode(Omega_r0 = 9e-5, Omega_m0 = 0.31, Omega_l0 = 0.69, tmax = 50):\n",
    "\n",
    "    Omega_0 = Omega_r0 + Omega_m0 + Omega_l0\n",
    "\n",
    "    dt = 1e-4  # in Gyrs\n",
    "    t_start = 0\n",
    "    t_end = tmax\n",
    "\n",
    "    t = np.arange(t_start, t_end, dt)\n",
    "    N = len(t)\n",
    "    a = np.zeros(N)\n",
    "    a[0] = 1e-4\n",
    "\n",
    "    for i in range(1, N):\n",
    "        da = H0 * np.sqrt( Omega_r0 / a[i-1]**2 + Omega_m0 / a[i-1] + Omega_l0 * a[i-1]**2 + (1 - Omega_0) ) * dt\n",
    "        a[i] = a[i-1] + da\n",
    "\n",
    "    # remove all NaNs if there are any\n",
    "    t = t[~np.isnan(a)]\n",
    "    a = a[~np.isnan(a)]\n",
    "\n",
    "    # find the current age of the universe - when a = 1\n",
    "    t0 = t[np.argmin(abs(a-1))]\n",
    "\n",
    "    print(f\"Current age of this universe: {t0} Gyrs\")\n",
    "\n",
    "    # scale to H0(t-t0)\n",
    "    return H0 * (t - t0), a"
   ]
  },
  {
   "cell_type": "code",
   "execution_count": 21,
   "id": "42aa801b",
   "metadata": {},
   "outputs": [
    {
     "name": "stdout",
     "output_type": "stream",
     "text": [
      "Current age of this universe: 13.7416 Gyrs\n"
     ]
    },
    {
     "data": {
      "text/plain": [
       "Text(0, 0.5, '$a$')"
      ]
     },
     "execution_count": 21,
     "metadata": {},
     "output_type": "execute_result"
    },
    {
     "data": {
      "image/png": "[encoded data removed]",
      "text/plain": [
       "<Figure size 432x288 with 1 Axes>"
      ]
     },
     "metadata": {
      "needs_background": "light"
     },
     "output_type": "display_data"
    }
   ],
   "source": [
    "t2, a2 = create_universe_ode(tmax = 30)\n",
    "plt.plot(t1, a1)\n",
    "plt.plot(t2, a2)\n",
    "\n",
    "plt.xlabel(\"$H_0 (t-t_0)$\")\n",
    "plt.ylabel(\"$a$\")"
   ]
  },
  {
   "cell_type": "code",
   "execution_count": null,
   "id": "5f526b7a",
   "metadata": {},
   "outputs": [],
   "source": []
  }
 ],
 "metadata": {
  "kernelspec": {
   "display_name": "Python 3 (ipykernel)",
   "language": "python",
   "name": "python3"
  },
  "language_info": {
   "codemirror_mode": {
    "name": "ipython",
    "version": 3
   },
   "file_extension": ".py",
   "mimetype": "text/x-python",
   "name": "python",
   "nbconvert_exporter": "python",
   "pygments_lexer": "ipython3",
   "version": "3.11.6"
  }
 },
 "nbformat": 4,
 "nbformat_minor": 5
}
