{
 "cells": [
  {
   "cell_type": "markdown",
   "id": "01bdec6c",
   "metadata": {},
   "source": [
    "# 12 - Solving the Energy Eigenvalue Equation\n",
    "\n",
    "As a concrete example in how to solve the energy eigenvalue equation numerically, consider the quadratic potential energy,\n",
    "$$\n",
    "V(x) = \\alpha x^2.\n",
    "$$\n",
    "This is just the simple harmonic oscillator potential with $\\alpha = m\\omega^2 /2$, but let's pretend we don't yet know the energies.\n",
    "\n",
    "Here's a plot of the potential:"
   ]
  },
  {
   "cell_type": "code",
   "execution_count": 61,
   "id": "bb0812ca",
   "metadata": {},
   "outputs": [
    {
     "data": {
      "text/plain": [
       "Text(0, 0.5, '$V(x)$')"
      ]
     },
     "execution_count": 61,
     "metadata": {},
     "output_type": "execute_result"
    },
    {
     "data": {
      "image/png": "[encoded data removed]",
      "text/plain": [
       "<Figure size 432x288 with 1 Axes>"
      ]
     },
     "metadata": {
      "needs_background": "light"
     },
     "output_type": "display_data"
    }
   ],
   "source": [
    "import numpy as np\n",
    "import matplotlib.pyplot as plt\n",
    "\n",
    "def V_quad(x):\n",
    "    alpha = 1\n",
    "    return alpha * x**2\n",
    "\n",
    "x = np.linspace(-5, 5, 1000)\n",
    "V = V_quad(x)\n",
    "\n",
    "plt.plot(x, V)\n",
    "plt.xlabel(\"$x$\")\n",
    "plt.ylabel(\"$V(x)$\")"
   ]
  },
  {
   "cell_type": "markdown",
   "id": "13ae552f",
   "metadata": {},
   "source": [
    "To solve the energy eigenvalue equation,\n",
    "$$\n",
    "-\\frac{\\hbar^2}{2m} \\frac{d^2\\phi}{dx^2} + V(x) \\phi(x) = E\\phi(x),\n",
    "$$\n",
    "we'll first re-write it as\n",
    "$$\n",
    "\\frac{d^2\\phi}{dx^2} = -\\frac{2m}{\\hbar^2} \\left[ E - V(x) \\right] \\phi(x).\n",
    "$$\n",
    "Then, to use the simple Euler's method of solving ODEs, we'll define s new variable, which I'll call $\\chi(x)$, as\n",
    "$$\n",
    "\\chi = \\frac{d\\phi}{dx}.\n",
    "$$\n",
    "Then we have two first order differential equations instead of our original second order differential equation:\n",
    "$$\n",
    "\\frac{d\\phi}{dx} = \\chi\n",
    "$$\n",
    "$$\n",
    "\\frac{d\\chi}{dx} = -\\frac{2m}{\\hbar^2} \\left[ E - V(x) \\right] \\phi(x).\n",
    "$$\n",
    "\n",
    "Euler's method begins by supposing that the infintesimal differences (\"$d$\") can be replaced with small but finite differences (\"$\\Delta$\").  Rearranging a bit gives us our *update equations*:\n",
    "$$\n",
    "\\phi_{n+1} = \\phi_n + \\chi_n \\Delta x\n",
    "$$\n",
    "and\n",
    "$$\n",
    "\\chi_{n+1} = \\chi_n - \\frac{2m}{\\hbar^2} \\left[ E - V(x_n) \\right] \\phi_n \\Delta x.\n",
    "$$\n",
    "Notice that we use the previous step's values ($n$) to evaluate the current step ($n+1$).\n",
    "\n",
    "So, given initial conditions for $\\chi$ and $\\phi$, we can use the update equations to find the values a little to the right, and then again, and again, and so on.  What are appropriate initial conditions?  We'll start with $x_0 = -\\infty$, in which case the wave function $\\phi(x)$, we should use *zero*, since it should go to zero at $\\pm \\infty$:\n",
    "$$\n",
    "\\phi_0 = \\phi(x_0) = \\phi(-\\infty) = 0\n",
    "$$\n",
    "(of course, we won't really use infinity; in practice a reasonably large negative value will work).\n",
    "\n",
    "One last problem:  we don't know that value of $E$ - fact, that's one of the unknowns in the differential equation.  What do we do?  Well, it starts with a *guess*, but I'll show you what to do from there in a moment.\n",
    "\n",
    "First, let's define our arrays and constants, and see if we can integrate our equation."
   ]
  },
  {
   "cell_type": "code",
   "execution_count": 104,
   "id": "fc9d3d9e",
   "metadata": {},
   "outputs": [
    {
     "data": {
      "text/plain": [
       "[<matplotlib.lines.Line2D at 0x7f0ec4999bd0>]"
      ]
     },
     "execution_count": 104,
     "metadata": {},
     "output_type": "execute_result"
    },
    {
     "data": {
      "image/png": "[encoded data removed]",
      "text/plain": [
       "<Figure size 432x288 with 1 Axes>"
      ]
     },
     "metadata": {
      "needs_background": "light"
     },
     "output_type": "display_data"
    }
   ],
   "source": [
    "# We'll set some useful parameters first for easy access:\n",
    "E = 1.0  #  Make that guess at E\n",
    "x_inf = 5.0  #  Maybe ridiculous but we'll pretend infinity is this\n",
    "dx = 0.001  #  Step parameter; smaller is better\n",
    "phi_0 = 0.0  # initial condition for the wave function\n",
    "chi_0 = 1.0  # initial condition for the derivative of the wave function\n",
    "\n",
    "# I'll set hbar and m to one; working in SI units isn't advised since the numbers are\n",
    "# all too small.\n",
    "\n",
    "# set up arrays\n",
    "x = np.arange(-x_inf, x_inf, dx)\n",
    "N = len(x)\n",
    "\n",
    "phi = np.zeros(N)\n",
    "chi = np.zeros(N)\n",
    "\n",
    "# set the initial conditions\n",
    "phi[0] = phi_0\n",
    "chi[0] = chi_0\n",
    "\n",
    "# loop over x\n",
    "for i in range(N-1):\n",
    "    phi[i+1] = phi[i] + chi[i] * dx\n",
    "    chi[i+1] = chi[i] - 2.0 * (E - V_quad(x[i])) * phi[i] * dx\n",
    "    \n",
    "# That's it - check our work:\n",
    "plt.plot(x, phi)"
   ]
  },
  {
   "cell_type": "markdown",
   "id": "a0c03017",
   "metadata": {},
   "source": [
    "Well, that looks horrible.  But our code is fine; it's actually just the value for $E$ that's messing things up.  Let's look at the plot with more reasonable limits:"
   ]
  },
  {
   "cell_type": "code",
   "execution_count": 105,
   "id": "4e42005c",
   "metadata": {},
   "outputs": [
    {
     "data": {
      "text/plain": [
       "(-1000000.0, 4000000.0)"
      ]
     },
     "execution_count": 105,
     "metadata": {},
     "output_type": "execute_result"
    },
    {
     "data": {
      "image/png": "[encoded data removed]",
      "text/plain": [
       "<Figure size 432x288 with 1 Axes>"
      ]
     },
     "metadata": {
      "needs_background": "light"
     },
     "output_type": "display_data"
    }
   ],
   "source": [
    "plt.plot(x, phi)\n",
    "plt.xlim(-5, 5)\n",
    "plt.ylim(-1e6, 4e6)"
   ]
  },
  {
   "cell_type": "markdown",
   "id": "ba94fe72",
   "metadata": {},
   "source": [
    "So it starts okay but goes to $-\\infty$ instead of coming back to zero.  Let's try with a different value of $E$, but I'm going to refactor the code to make that easier.  "
   ]
  },
  {
   "cell_type": "code",
   "execution_count": 106,
   "id": "1f2cfdf0",
   "metadata": {},
   "outputs": [
    {
     "data": {
      "text/plain": [
       "(-1000000.0, 4000000.0)"
      ]
     },
     "execution_count": 106,
     "metadata": {},
     "output_type": "execute_result"
    },
    {
     "data": {
      "image/png": "[encoded data removed]",
      "text/plain": [
       "<Figure size 432x288 with 1 Axes>"
      ]
     },
     "metadata": {
      "needs_background": "light"
     },
     "output_type": "display_data"
    }
   ],
   "source": [
    "def solve_energy_eigenvalue(E, x_inf = 5.0, dx = 0.001, phi_0 = 0.0, chi_0 = 1.0, V = V_quad):\n",
    "    \n",
    "    x = np.arange(-x_inf, x_inf, dx)\n",
    "    N = len(x)\n",
    "\n",
    "    phi = np.zeros(N)\n",
    "    chi = np.zeros(N)\n",
    "\n",
    "    # set the initial conditions\n",
    "    phi[0] = phi_0\n",
    "    chi[0] = chi_0\n",
    "\n",
    "    # loop over x\n",
    "    for i in range(N-1):\n",
    "        phi[i+1] = phi[i] + chi[i] * dx\n",
    "        chi[i+1] = chi[i] - 2.0 * (E - V(x[i])) * phi[i] * dx\n",
    "\n",
    "    return x, phi, chi\n",
    "\n",
    "x, phi, chi = solve_energy_eigenvalue(0.5)\n",
    "\n",
    "plt.plot(x, phi)\n",
    "plt.xlim(-5, 5)\n",
    "plt.ylim(-1e6, 4e6)"
   ]
  },
  {
   "cell_type": "markdown",
   "id": "67b2c746",
   "metadata": {},
   "source": [
    "Oh no, now we have the opposite problem - the wave function is going to $+\\infty$!  Luckily, that means that correct value of E is between 0.5 and 1.0.  So let's try a few more:"
   ]
  },
  {
   "cell_type": "code",
   "execution_count": 107,
   "id": "db0a8940",
   "metadata": {},
   "outputs": [
    {
     "data": {
      "text/plain": [
       "(-1000000.0, 4000000.0)"
      ]
     },
     "execution_count": 107,
     "metadata": {},
     "output_type": "execute_result"
    },
    {
     "data": {
      "image/png": "[encoded data removed]",
      "text/plain": [
       "<Figure size 432x288 with 1 Axes>"
      ]
     },
     "metadata": {
      "needs_background": "light"
     },
     "output_type": "display_data"
    }
   ],
   "source": [
    "x, phi, chi = solve_energy_eigenvalue(0.8)\n",
    "\n",
    "plt.plot(x, phi)\n",
    "plt.xlim(-5, 5)\n",
    "plt.ylim(-1e6, 4e6)"
   ]
  },
  {
   "cell_type": "markdown",
   "id": "9b668738",
   "metadata": {},
   "source": [
    "Now it's going to $-\\infty$!"
   ]
  },
  {
   "cell_type": "code",
   "execution_count": 108,
   "id": "f29df8a0",
   "metadata": {},
   "outputs": [
    {
     "data": {
      "text/plain": [
       "(-1000000.0, 4000000.0)"
      ]
     },
     "execution_count": 108,
     "metadata": {},
     "output_type": "execute_result"
    },
    {
     "data": {
      "image/png": "[encoded data removed]",
      "text/plain": [
       "<Figure size 432x288 with 1 Axes>"
      ]
     },
     "metadata": {
      "needs_background": "light"
     },
     "output_type": "display_data"
    }
   ],
   "source": [
    "x, phi, chi = solve_energy_eigenvalue(0.7)\n",
    "\n",
    "plt.plot(x, phi)\n",
    "plt.xlim(-5, 5)\n",
    "plt.ylim(-1e6, 4e6)"
   ]
  },
  {
   "cell_type": "markdown",
   "id": "efb48a80",
   "metadata": {},
   "source": [
    "So now we know the correct value is between 0.7 and 0.8.  Some more trial and error can get us the correct value to our desired precision (whatever that may be)."
   ]
  },
  {
   "cell_type": "code",
   "execution_count": 109,
   "id": "263aba2f",
   "metadata": {},
   "outputs": [
    {
     "data": {
      "text/plain": [
       "(-1000000.0, 4000000.0)"
      ]
     },
     "execution_count": 109,
     "metadata": {},
     "output_type": "execute_result"
    },
    {
     "data": {
      "image/png": "[encoded data removed]",
      "text/plain": [
       "<Figure size 432x288 with 1 Axes>"
      ]
     },
     "metadata": {
      "needs_background": "light"
     },
     "output_type": "display_data"
    }
   ],
   "source": [
    "x, phi, chi = solve_energy_eigenvalue(0.70710703)\n",
    "\n",
    "plt.plot(x, phi)\n",
    "plt.xlim(-5, 5)\n",
    "plt.ylim(-1e6, 4e6)"
   ]
  },
  {
   "cell_type": "markdown",
   "id": "5fe106de",
   "metadata": {},
   "source": [
    "So, there's our wave function $\\phi_1(x)$ (unnormalized, but that's fine for now), and our energy (in our units where $\\alpha = \\hbar = m = 1$) is \n",
    "$$\n",
    "E_1 = 0.7071\n",
    "$$\n",
    "\n",
    "Although it's tedious, we can also find our next energy and wave function in the same way, and so on up the ladder.  Let's do the first three for fun:"
   ]
  },
  {
   "cell_type": "code",
   "execution_count": 135,
   "id": "cd5ad3e9",
   "metadata": {},
   "outputs": [
    {
     "data": {
      "text/plain": [
       "(-5.0, 5.0, 0.0, 6.0)"
      ]
     },
     "execution_count": 135,
     "metadata": {},
     "output_type": "execute_result"
    },
    {
     "data": {
      "image/png": "[encoded data removed]",
      "text/plain": [
       "<Figure size 432x288 with 1 Axes>"
      ]
     },
     "metadata": {
      "needs_background": "light"
     },
     "output_type": "display_data"
    }
   ],
   "source": [
    "# get the ground state again\n",
    "E1 = 0.70710703\n",
    "x, phi1, chi1 = solve_energy_eigenvalue(E1)\n",
    "\n",
    "# get the first excited state\n",
    "E2 = 2.1213226\n",
    "x, phi2, chi2 = solve_energy_eigenvalue(E2)\n",
    "\n",
    "# get the second excited state\n",
    "E3 = 4.94976\n",
    "x, phi3, chi3 = solve_energy_eigenvalue(E3)\n",
    "\n",
    "# I'd really like to normalize these\n",
    "def normalize(x, phi):\n",
    "    A2 = np.trapz(phi**2, x)\n",
    "    return x, phi / np.sqrt(A2)\n",
    "\n",
    "x, phi1 = normalize(x, phi1)\n",
    "x, phi2 = normalize(x, phi2)\n",
    "x, phi3 = normalize(x, phi3)\n",
    "\n",
    "plt.plot(x, phi1 + E1)\n",
    "plt.plot(x, phi2 + E2)\n",
    "plt.plot(x, phi3 + E3)\n",
    "\n",
    "plt.axhline(E1, color=\"black\", lw=1)\n",
    "plt.axhline(E2, color=\"black\", lw=1)\n",
    "plt.axhline(E3, color=\"black\", lw=1)\n",
    "\n",
    "plt.xlabel(\"$x$\")\n",
    "plt.ylabel(\"$\\phi(x)$\")\n",
    "\n",
    "plt.plot(x, V_quad(x), color=\"black\")\n",
    "plt.xlim(-5, 5)\n",
    "plt.ylim(0, 6)\n",
    "\n",
    "plt.axis('off')"
   ]
  }
 ],
 "metadata": {
  "kernelspec": {
   "display_name": "Python 3 (ipykernel)",
   "language": "python",
   "name": "python3"
  },
  "language_info": {
   "codemirror_mode": {
    "name": "ipython",
    "version": 3
   },
   "file_extension": ".py",
   "mimetype": "text/x-python",
   "name": "python",
   "nbconvert_exporter": "python",
   "pygments_lexer": "ipython3",
   "version": "3.11.3"
  }
 },
 "nbformat": 4,
 "nbformat_minor": 5
}
