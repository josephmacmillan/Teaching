{
 "cells": [
  {
   "cell_type": "code",
   "execution_count": 8,
   "id": "67714fce",
   "metadata": {},
   "outputs": [],
   "source": [
    "import numpy as np\n",
    "import matplotlib.pyplot as plt\n",
    "import scipy\n",
    "from scipy import integrate\n",
    "import math"
   ]
  },
  {
   "cell_type": "code",
   "execution_count": 89,
   "id": "22b1e6f0",
   "metadata": {},
   "outputs": [
    {
     "name": "stdout",
     "output_type": "stream",
     "text": [
      "[1.00000000e-05 6.12342857e-02 1.22458571e-01 1.83682857e-01\n",
      " 2.44907143e-01 3.06131429e-01 3.67355714e-01 4.28580000e-01\n",
      " 4.89804286e-01 5.51028571e-01 6.12252857e-01 6.73477143e-01\n",
      " 7.34701429e-01 7.95925714e-01 8.57150000e-01 9.18374286e-01\n",
      " 9.79598571e-01 1.04082286e+00 1.10204714e+00 1.16327143e+00\n",
      " 1.22449571e+00 1.28572000e+00 1.34694429e+00 1.40816857e+00\n",
      " 1.46939286e+00 1.53061714e+00 1.59184143e+00 1.65306571e+00\n",
      " 1.71429000e+00 1.77551429e+00 1.83673857e+00 1.89796286e+00\n",
      " 1.95918714e+00 2.02041143e+00 2.08163571e+00 2.14286000e+00\n",
      " 2.20408429e+00 2.26530857e+00 2.32653286e+00 2.38775714e+00\n",
      " 2.44898143e+00 2.51020571e+00 2.57143000e+00 2.63265429e+00\n",
      " 2.69387857e+00 2.75510286e+00 2.81632714e+00 2.87755143e+00\n",
      " 2.93877571e+00 3.00000000e+00]\n"
     ]
    }
   ],
   "source": [
    "#constants\n",
    "omega_m = 0.31\n",
    "omega_lambda = 0.69\n",
    "omega_r0 = 9*10**-5\n",
    "h0 = 0.069\n",
    "\n",
    "a = np.linspace(10**-5, 3)\n",
    "print(a)"
   ]
  },
  {
   "cell_type": "code",
   "execution_count": 90,
   "id": "a8186c61",
   "metadata": {},
   "outputs": [],
   "source": [
    "def func(a):\n",
    "    return 1/(np.sqrt((omega_r0/a**2)+ (omega_m/a) + (omega_lambda * a**2) + (1.0 - omega_m - omega_lambda - omega_r0)))\n",
    "    "
   ]
  },
  {
   "cell_type": "code",
   "execution_count": 93,
   "id": "10a623fc",
   "metadata": {},
   "outputs": [
    {
     "name": "stdout",
     "output_type": "stream",
     "text": [
      "omega_m: 0.31\n",
      "omega_lambda: 0.69\n",
      "omega_r0: 9e-05\n",
      "age: 13.839450861820426\n"
     ]
    }
   ],
   "source": [
    "arr = []\n",
    "for i in a:\n",
    "    arr.append(scipy.integrate.quad(func, 1, i)[0])\n",
    "    \n",
    "age = arr[0]/-h0\n",
    "\n",
    "print(\"omega_m:\", omega_m)\n",
    "print(\"omega_lambda:\", omega_lambda)\n",
    "print(\"omega_r0:\", omega_r0)\n",
    "print(\"age:\", age)"
   ]
  },
  {
   "cell_type": "code",
   "execution_count": 92,
   "id": "60242b9d",
   "metadata": {},
   "outputs": [
    {
     "data": {
      "text/plain": [
       "<function matplotlib.pyplot.show(close=None, block=None)>"
      ]
     },
     "execution_count": 92,
     "metadata": {},
     "output_type": "execute_result"
    },
    {
     "data": {
      "image/png": "[encoded data removed]",
      "text/plain": [
       "<Figure size 432x288 with 1 Axes>"
      ]
     },
     "metadata": {
      "needs_background": "light"
     },
     "output_type": "display_data"
    }
   ],
   "source": [
    "plt.plot(arr, a)\n",
    "plt.show"
   ]
  },
  {
   "cell_type": "code",
   "execution_count": null,
   "id": "5e53be0a",
   "metadata": {},
   "outputs": [],
   "source": []
  }
 ],
 "metadata": {
  "kernelspec": {
   "display_name": "Python 3 (ipykernel)",
   "language": "python",
   "name": "python3"
  },
  "language_info": {
   "codemirror_mode": {
    "name": "ipython",
    "version": 3
   },
   "file_extension": ".py",
   "mimetype": "text/x-python",
   "name": "python",
   "nbconvert_exporter": "python",
   "pygments_lexer": "ipython3",
   "version": "3.8.12"
  }
 },
 "nbformat": 4,
 "nbformat_minor": 5
}
